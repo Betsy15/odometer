{
  "nbformat": 4,
  "nbformat_minor": 0,
  "metadata": {
    "colab": {
      "name": "CNN_odometer .ipynb",
      "provenance": []
    },
    "kernelspec": {
      "name": "python3",
      "display_name": "Python 3"
    },
    "language_info": {
      "name": "python"
    }
  },
  "cells": [
    {
      "cell_type": "code",
      "metadata": {
        "id": "DDEbs8hWZvh3"
      },
      "source": [
        "#from keras.datasets import cifar10\n",
        "from keras.utils import np_utils\n",
        "from matplotlib import pyplot as plt\n",
        "import numpy as np\n",
        "from PIL import Image\n",
        "import cv2\n",
        "import matplotlib.pyplot as plt\n",
        "import os\n",
        "import pandas as pd\n",
        "\n"
      ],
      "execution_count": 1,
      "outputs": []
    },
    {
      "cell_type": "code",
      "metadata": {
        "id": "qPy47-xAxhG5"
      },
      "source": [
        "data=pd.read_csv('/content/drive/MyDrive/odometer/odometer/labels_odometer_2021-06-23-11-57-37.csv',sep=',')\n",
        "W=list(data['W'])\n",
        "H=list(data['H'])\n",
        "xmin=list(data['xmin'])\n",
        "xmax=list(data['xmax'])\n",
        "ymin=list(data['ymin'])\n",
        "ymax=list(data['ymax'])\n",
        "Img=list(data['imageid'])\n"
      ],
      "execution_count": 2,
      "outputs": []
    },
    {
      "cell_type": "code",
      "metadata": {
        "colab": {
          "base_uri": "https://localhost:8080/"
        },
        "id": "lUG-LlYoaX9D",
        "outputId": "1b940d5a-1b9e-4f24-e18d-27209cf7767d"
      },
      "source": [
        "(X_train, y_train), (X_test, y_test) = cifar10.load_data(\"/content/drive/MyDrive/odometer/odometer/\")"
      ],
      "execution_count": null,
      "outputs": [
        {
          "output_type": "stream",
          "text": [
            "Downloading data from https://www.cs.toronto.edu/~kriz/cifar-10-python.tar.gz\n",
            "170500096/170498071 [==============================] - 2s 0us/step\n",
            "170508288/170498071 [==============================] - 2s 0us/step\n"
          ],
          "name": "stdout"
        }
      ]
    },
    {
      "cell_type": "code",
      "metadata": {
        "colab": {
          "base_uri": "https://localhost:8080/"
        },
        "id": "iZjOWSKSa6Ff",
        "outputId": "b6a32c4c-8537-4ed0-ce5e-4e5ec7f9473f"
      },
      "source": [
        "\n",
        "print(X_train[0].shape)#should be and is 32x32x3"
      ],
      "execution_count": null,
      "outputs": [
        {
          "output_type": "stream",
          "text": [
            "(32, 32, 3)\n"
          ],
          "name": "stdout"
        }
      ]
    },
    {
      "cell_type": "code",
      "metadata": {
        "id": "8VeZlB9La96f"
      },
      "source": [
        ""
      ],
      "execution_count": null,
      "outputs": []
    },
    {
      "cell_type": "code",
      "metadata": {
        "colab": {
          "base_uri": "https://localhost:8080/"
        },
        "id": "ZNCH_PvDbBy1",
        "outputId": "64b4ffbb-2384-421a-f043-a7b0eebc8f3d"
      },
      "source": [
        "\n",
        "print(X_train[0])"
      ],
      "execution_count": null,
      "outputs": [
        {
          "output_type": "stream",
          "text": [
            "[[[ 59  62  63]\n",
            "  [ 43  46  45]\n",
            "  [ 50  48  43]\n",
            "  ...\n",
            "  [158 132 108]\n",
            "  [152 125 102]\n",
            "  [148 124 103]]\n",
            "\n",
            " [[ 16  20  20]\n",
            "  [  0   0   0]\n",
            "  [ 18   8   0]\n",
            "  ...\n",
            "  [123  88  55]\n",
            "  [119  83  50]\n",
            "  [122  87  57]]\n",
            "\n",
            " [[ 25  24  21]\n",
            "  [ 16   7   0]\n",
            "  [ 49  27   8]\n",
            "  ...\n",
            "  [118  84  50]\n",
            "  [120  84  50]\n",
            "  [109  73  42]]\n",
            "\n",
            " ...\n",
            "\n",
            " [[208 170  96]\n",
            "  [201 153  34]\n",
            "  [198 161  26]\n",
            "  ...\n",
            "  [160 133  70]\n",
            "  [ 56  31   7]\n",
            "  [ 53  34  20]]\n",
            "\n",
            " [[180 139  96]\n",
            "  [173 123  42]\n",
            "  [186 144  30]\n",
            "  ...\n",
            "  [184 148  94]\n",
            "  [ 97  62  34]\n",
            "  [ 83  53  34]]\n",
            "\n",
            " [[177 144 116]\n",
            "  [168 129  94]\n",
            "  [179 142  87]\n",
            "  ...\n",
            "  [216 184 140]\n",
            "  [151 118  84]\n",
            "  [123  92  72]]]\n"
          ],
          "name": "stdout"
        }
      ]
    },
    {
      "cell_type": "code",
      "metadata": {
        "id": "3RL9xMylbG-S"
      },
      "source": [
        "seed=6\n",
        "np.random.seed(seed)\n",
        "\n",
        "#again load the dataset as we set the random seed and not apllying any shuffling effects or random effects\n",
        "(X_train, y_train), (X_test, y_test) = cifar10.load_data()\n",
        "\n",
        "# normalize the inputs from 0-255(RGB) to 0.0-1.0\n",
        "X_train=X_train.astype('float32')\n",
        "X_test=X_test.astype('float32')\n",
        "X_train=X_train/255.0\n",
        "X_test=X_test/255.0"
      ],
      "execution_count": null,
      "outputs": []
    },
    {
      "cell_type": "code",
      "metadata": {
        "colab": {
          "base_uri": "https://localhost:8080/"
        },
        "id": "amz3UE6zbML2",
        "outputId": "4ed12e5a-f8d9-4932-ca05-9377a2672fc7"
      },
      "source": [
        "print(X_train[0])"
      ],
      "execution_count": null,
      "outputs": [
        {
          "output_type": "stream",
          "text": [
            "[[[0.23137255 0.24313726 0.24705882]\n",
            "  [0.16862746 0.18039216 0.1764706 ]\n",
            "  [0.19607843 0.1882353  0.16862746]\n",
            "  ...\n",
            "  [0.61960787 0.5176471  0.42352942]\n",
            "  [0.59607846 0.49019608 0.4       ]\n",
            "  [0.5803922  0.4862745  0.40392157]]\n",
            "\n",
            " [[0.0627451  0.07843138 0.07843138]\n",
            "  [0.         0.         0.        ]\n",
            "  [0.07058824 0.03137255 0.        ]\n",
            "  ...\n",
            "  [0.48235294 0.34509805 0.21568628]\n",
            "  [0.46666667 0.3254902  0.19607843]\n",
            "  [0.47843137 0.34117648 0.22352941]]\n",
            "\n",
            " [[0.09803922 0.09411765 0.08235294]\n",
            "  [0.0627451  0.02745098 0.        ]\n",
            "  [0.19215687 0.10588235 0.03137255]\n",
            "  ...\n",
            "  [0.4627451  0.32941177 0.19607843]\n",
            "  [0.47058824 0.32941177 0.19607843]\n",
            "  [0.42745098 0.28627452 0.16470589]]\n",
            "\n",
            " ...\n",
            "\n",
            " [[0.8156863  0.6666667  0.3764706 ]\n",
            "  [0.7882353  0.6        0.13333334]\n",
            "  [0.7764706  0.6313726  0.10196079]\n",
            "  ...\n",
            "  [0.627451   0.52156866 0.27450982]\n",
            "  [0.21960784 0.12156863 0.02745098]\n",
            "  [0.20784314 0.13333334 0.07843138]]\n",
            "\n",
            " [[0.7058824  0.54509807 0.3764706 ]\n",
            "  [0.6784314  0.48235294 0.16470589]\n",
            "  [0.7294118  0.5647059  0.11764706]\n",
            "  ...\n",
            "  [0.72156864 0.5803922  0.36862746]\n",
            "  [0.38039216 0.24313726 0.13333334]\n",
            "  [0.3254902  0.20784314 0.13333334]]\n",
            "\n",
            " [[0.69411767 0.5647059  0.45490196]\n",
            "  [0.65882355 0.5058824  0.36862746]\n",
            "  [0.7019608  0.5568628  0.34117648]\n",
            "  ...\n",
            "  [0.84705883 0.72156864 0.54901963]\n",
            "  [0.5921569  0.4627451  0.32941177]\n",
            "  [0.48235294 0.36078432 0.28235295]]]\n"
          ],
          "name": "stdout"
        }
      ]
    },
    {
      "cell_type": "code",
      "metadata": {
        "id": "mHDFQpCEbS_C"
      },
      "source": [
        "\n"
      ],
      "execution_count": null,
      "outputs": []
    },
    {
      "cell_type": "code",
      "metadata": {
        "colab": {
          "base_uri": "https://localhost:8080/"
        },
        "id": "ozGTZo5EbXaP",
        "outputId": "958c779b-076a-4fea-d9db-703316ec7403"
      },
      "source": [
        "#hot encode outputs\n",
        "Y_train=np_utils.to_categorical(y_train)\n",
        "Y_test=np_utils.to_categorical(y_test)\n",
        "num_classes=Y_test.shape[1]\n",
        "\n",
        "\n",
        "print(Y_train[0])"
      ],
      "execution_count": null,
      "outputs": [
        {
          "output_type": "stream",
          "text": [
            "[0. 0. 0. 0. 0. 0. 1. 0. 0. 0.]\n"
          ],
          "name": "stdout"
        }
      ]
    },
    {
      "cell_type": "code",
      "metadata": {
        "id": "p0b1bSBLbccu"
      },
      "source": [
        "from keras.models import Sequential\n",
        "from keras.layers import Dropout,Activation,Conv2D,GlobalAveragePooling2D\n",
        "#conv2d is the main convulational layer\n",
        "from keras.optimizers import SGD#stochastic gradient descent"
      ],
      "execution_count": null,
      "outputs": []
    },
    {
      "cell_type": "code",
      "metadata": {
        "id": "Z-GeVyK7biqy"
      },
      "source": [
        "def allcnn(weights=None):\n",
        "    #taking random weights ny default else usr passed pretrained weights\n",
        "    \n",
        "    model=Sequential()#we will be adding one layer after another\n",
        "    \n",
        "    #not the input layer but need to tell the conv. layer to accept input\n",
        "    model.add(Conv2D(96,(3,3),padding='same',input_shape=(32,32,3)))#32x32x3 channels\n",
        "    model.add(Activation('relu'))#required for each conv. layer\n",
        "    model.add(Conv2D(96,(3,3),padding='same'))\n",
        "    model.add(Activation('relu'))\n",
        "    model.add(Conv2D(96,(3,3),padding='same',strides=(2,2)))\n",
        "    model.add(Dropout(0.5))#drop neurons randomly;helps the network generalize(prevent overfitting on training data) better so instead of having individual neurons \n",
        "    #that are controlling specific classes/features, the features are spread out over the entire network\n",
        "    \n",
        "    model.add(Conv2D(192,(3,3),padding='same'))\n",
        "    model.add(Activation('relu'))\n",
        "    model.add(Conv2D(192,(3,3),padding='same'))\n",
        "    model.add(Activation('relu'))\n",
        "    model.add(Conv2D(192,(3,3),padding='same',strides=(2,2)))\n",
        "    model.add(Dropout(0.5))\n",
        "    \n",
        "    model.add(Conv2D(192,(3,3),padding='same'))\n",
        "    model.add(Activation('relu'))\n",
        "    model.add(Conv2D(192,(1,1),padding='valid'))\n",
        "    model.add(Activation('relu'))\n",
        "    model.add(Conv2D(10,(1,1),padding='valid'))\n",
        "    \n",
        "    # add GlobalAveragePooling2D layer with Softmax activation\n",
        "    model.add(GlobalAveragePooling2D())\n",
        "    model.add(Activation('softmax'))\n",
        "    \n",
        "    #load the weights,if passed\n",
        "    if weights:\n",
        "        model.load_weights(weights)\n",
        "    \n",
        "    #return model\n",
        "    return model"
      ],
      "execution_count": null,
      "outputs": []
    },
    {
      "cell_type": "code",
      "metadata": {
        "colab": {
          "base_uri": "https://localhost:8080/"
        },
        "id": "5sWbEroKjiip",
        "outputId": "083b8abd-3757-4c3f-e4c4-e39b6b94e8f0"
      },
      "source": [
        "#define the hyper parameters(generic or do Grid Search)\n",
        "learning_rate=0.01\n",
        "weight_decay=1e-6\n",
        "momentum=0.9\n",
        "\n",
        "#define training parameters\n",
        "epochs=350 #from research paper\n",
        "batch_size=32#run 32 images times then update the parameters instead of updating them after every image\n",
        "\n",
        "model=allcnn()\n",
        "\n",
        "#define optimizer and compile model\n",
        "sgd=SGD(lr=learning_rate,decay=weight_decay,momentum=momentum,nesterov=True)\n",
        "model.compile(loss='categorical_crossentropy',optimizer=sgd,metrics=['accuracy'])\n",
        "\n",
        "print(model.summary())#1.3m parameters and all are trainable\n",
        "\n",
        "# #fit the model(update the parameters and loss)\n",
        "# model.fit(X_train,Y_train,validation_data=(X_test,Y_test),epochs=epochs,batch_size=batch_size,verbose=1)"
      ],
      "execution_count": null,
      "outputs": [
        {
          "output_type": "stream",
          "text": [
            "Model: \"sequential\"\n",
            "_________________________________________________________________\n",
            "Layer (type)                 Output Shape              Param #   \n",
            "=================================================================\n",
            "conv2d (Conv2D)              (None, 32, 32, 96)        2688      \n",
            "_________________________________________________________________\n",
            "activation (Activation)      (None, 32, 32, 96)        0         \n",
            "_________________________________________________________________\n",
            "conv2d_1 (Conv2D)            (None, 32, 32, 96)        83040     \n",
            "_________________________________________________________________\n",
            "activation_1 (Activation)    (None, 32, 32, 96)        0         \n",
            "_________________________________________________________________\n",
            "conv2d_2 (Conv2D)            (None, 16, 16, 96)        83040     \n",
            "_________________________________________________________________\n",
            "dropout (Dropout)            (None, 16, 16, 96)        0         \n",
            "_________________________________________________________________\n",
            "conv2d_3 (Conv2D)            (None, 16, 16, 192)       166080    \n",
            "_________________________________________________________________\n",
            "activation_2 (Activation)    (None, 16, 16, 192)       0         \n",
            "_________________________________________________________________\n",
            "conv2d_4 (Conv2D)            (None, 16, 16, 192)       331968    \n",
            "_________________________________________________________________\n",
            "activation_3 (Activation)    (None, 16, 16, 192)       0         \n",
            "_________________________________________________________________\n",
            "conv2d_5 (Conv2D)            (None, 8, 8, 192)         331968    \n",
            "_________________________________________________________________\n",
            "dropout_1 (Dropout)          (None, 8, 8, 192)         0         \n",
            "_________________________________________________________________\n",
            "conv2d_6 (Conv2D)            (None, 8, 8, 192)         331968    \n",
            "_________________________________________________________________\n",
            "activation_4 (Activation)    (None, 8, 8, 192)         0         \n",
            "_________________________________________________________________\n",
            "conv2d_7 (Conv2D)            (None, 8, 8, 192)         37056     \n",
            "_________________________________________________________________\n",
            "activation_5 (Activation)    (None, 8, 8, 192)         0         \n",
            "_________________________________________________________________\n",
            "conv2d_8 (Conv2D)            (None, 8, 8, 10)          1930      \n",
            "_________________________________________________________________\n",
            "global_average_pooling2d (Gl (None, 10)                0         \n",
            "_________________________________________________________________\n",
            "activation_6 (Activation)    (None, 10)                0         \n",
            "=================================================================\n",
            "Total params: 1,369,738\n",
            "Trainable params: 1,369,738\n",
            "Non-trainable params: 0\n",
            "_________________________________________________________________\n",
            "None\n"
          ],
          "name": "stdout"
        },
        {
          "output_type": "stream",
          "text": [
            "/usr/local/lib/python3.7/dist-packages/tensorflow/python/keras/optimizer_v2/optimizer_v2.py:375: UserWarning: The `lr` argument is deprecated, use `learning_rate` instead.\n",
            "  \"The `lr` argument is deprecated, use `learning_rate` instead.\")\n"
          ],
          "name": "stderr"
        }
      ]
    },
    {
      "cell_type": "code",
      "metadata": {
        "colab": {
          "base_uri": "https://localhost:8080/"
        },
        "id": "GdbnE9Nfjo9P",
        "outputId": "821b0fea-e53a-4138-e9eb-b5dfde615522"
      },
      "source": [
        "# define hyper parameters\n",
        "learning_rate = 0.01\n",
        "weight_decay = 1e-6\n",
        "momentum = 0.9\n",
        "#no need for training parameters\n",
        "\n",
        "# define weights and build model\n",
        "weights='/content/all_cnn_weights_0.9088_0.4994.hdf5'#KERAS format hdf5\n",
        "#pretrained weights  that have already gone through the above press\n",
        "model=allcnn(weights)\n",
        "\n",
        "# define optimizer and compile model\n",
        "sgd = SGD(lr=learning_rate, decay=weight_decay, momentum=momentum, nesterov=True)\n",
        "model.compile(loss='categorical_crossentropy', optimizer=sgd, metrics=['accuracy'])\n",
        "#measure of model's perfrmane is accuracy\n",
        "\n",
        "# print model summary\n",
        "print (model.summary())\n",
        "\n",
        "# test the model with pretrained weights\n",
        "scores=model.evaluate(X_test,Y_test,verbose=1)\n",
        "print(\"Accuracy: %.2f%%\" % (scores[1]*100))"
      ],
      "execution_count": null,
      "outputs": [
        {
          "output_type": "stream",
          "text": [
            "/usr/local/lib/python3.7/dist-packages/tensorflow/python/keras/optimizer_v2/optimizer_v2.py:375: UserWarning: The `lr` argument is deprecated, use `learning_rate` instead.\n",
            "  \"The `lr` argument is deprecated, use `learning_rate` instead.\")\n"
          ],
          "name": "stderr"
        },
        {
          "output_type": "stream",
          "text": [
            "Model: \"sequential_1\"\n",
            "_________________________________________________________________\n",
            "Layer (type)                 Output Shape              Param #   \n",
            "=================================================================\n",
            "conv2d_9 (Conv2D)            (None, 32, 32, 96)        2688      \n",
            "_________________________________________________________________\n",
            "activation_7 (Activation)    (None, 32, 32, 96)        0         \n",
            "_________________________________________________________________\n",
            "conv2d_10 (Conv2D)           (None, 32, 32, 96)        83040     \n",
            "_________________________________________________________________\n",
            "activation_8 (Activation)    (None, 32, 32, 96)        0         \n",
            "_________________________________________________________________\n",
            "conv2d_11 (Conv2D)           (None, 16, 16, 96)        83040     \n",
            "_________________________________________________________________\n",
            "dropout_2 (Dropout)          (None, 16, 16, 96)        0         \n",
            "_________________________________________________________________\n",
            "conv2d_12 (Conv2D)           (None, 16, 16, 192)       166080    \n",
            "_________________________________________________________________\n",
            "activation_9 (Activation)    (None, 16, 16, 192)       0         \n",
            "_________________________________________________________________\n",
            "conv2d_13 (Conv2D)           (None, 16, 16, 192)       331968    \n",
            "_________________________________________________________________\n",
            "activation_10 (Activation)   (None, 16, 16, 192)       0         \n",
            "_________________________________________________________________\n",
            "conv2d_14 (Conv2D)           (None, 8, 8, 192)         331968    \n",
            "_________________________________________________________________\n",
            "dropout_3 (Dropout)          (None, 8, 8, 192)         0         \n",
            "_________________________________________________________________\n",
            "conv2d_15 (Conv2D)           (None, 8, 8, 192)         331968    \n",
            "_________________________________________________________________\n",
            "activation_11 (Activation)   (None, 8, 8, 192)         0         \n",
            "_________________________________________________________________\n",
            "conv2d_16 (Conv2D)           (None, 8, 8, 192)         37056     \n",
            "_________________________________________________________________\n",
            "activation_12 (Activation)   (None, 8, 8, 192)         0         \n",
            "_________________________________________________________________\n",
            "conv2d_17 (Conv2D)           (None, 8, 8, 10)          1930      \n",
            "_________________________________________________________________\n",
            "global_average_pooling2d_1 ( (None, 10)                0         \n",
            "_________________________________________________________________\n",
            "activation_13 (Activation)   (None, 10)                0         \n",
            "=================================================================\n",
            "Total params: 1,369,738\n",
            "Trainable params: 1,369,738\n",
            "Non-trainable params: 0\n",
            "_________________________________________________________________\n",
            "None\n",
            "313/313 [==============================] - 114s 313ms/step - loss: 0.5191 - accuracy: 0.9091\n",
            "Accuracy: 90.88%\n"
          ],
          "name": "stdout"
        }
      ]
    },
    {
      "cell_type": "code",
      "metadata": {
        "colab": {
          "base_uri": "https://localhost:8080/"
        },
        "id": "c80nzCFIj8yY",
        "outputId": "8766e695-0fb7-423b-bacb-ab284a644803"
      },
      "source": [
        "\n",
        "print(predictions)\n",
        "print(predictions.shape)"
      ],
      "execution_count": null,
      "outputs": [
        {
          "output_type": "stream",
          "text": [
            "[[4.5647230e-18 1.0580984e-20 1.8923278e-10 2.1411404e-11 9.9999928e-01\n",
            "  2.8037445e-07 3.1478666e-13 4.2381367e-07 1.3699609e-19 1.2097067e-18]\n",
            " [2.1190902e-16 2.0386702e-17 1.5672676e-09 5.3581516e-07 1.6256110e-10\n",
            "  9.9999940e-01 1.6712491e-09 2.0782190e-08 3.6548193e-15 3.5128330e-16]\n",
            " [1.2720420e-30 5.0273835e-28 5.1540026e-24 3.6051407e-21 1.0875222e-27\n",
            "  8.1522466e-22 1.0000000e+00 1.1050908e-27 6.1924619e-32 1.2274334e-23]\n",
            " [1.5143829e-16 4.7668876e-18 2.2583697e-09 1.0000000e+00 4.3481212e-11\n",
            "  1.6884211e-12 4.5317211e-13 2.6687057e-16 7.2659426e-19 6.2049941e-17]\n",
            " [8.2502348e-36 1.0000000e+00 0.0000000e+00 0.0000000e+00 0.0000000e+00\n",
            "  0.0000000e+00 0.0000000e+00 9.3568037e-36 8.6868619e-30 8.2192576e-22]\n",
            " [5.9699731e-24 1.0000000e+00 7.5485268e-27 8.0228687e-27 1.9714101e-30\n",
            "  2.7338922e-29 7.2188490e-31 5.5680368e-27 1.6186991e-26 1.1906196e-13]\n",
            " [6.4563548e-18 2.9642424e-20 1.0046496e-11 9.9999988e-01 6.0155895e-13\n",
            "  9.1111161e-08 7.8874641e-12 1.1608701e-15 7.8587764e-21 8.5475925e-21]\n",
            " [1.6671025e-27 7.7631494e-24 5.1403860e-20 7.2386683e-18 2.6579397e-21\n",
            "  1.4440420e-24 1.0000000e+00 4.4415296e-27 6.7758610e-26 9.2965917e-24]\n",
            " [4.1735179e-25 4.3387003e-23 1.7792240e-27 2.9117102e-23 1.0090387e-24\n",
            "  3.1294553e-20 1.0425292e-21 2.7766278e-21 1.0000000e+00 2.1068029e-28]]\n",
            "(9, 10)\n"
          ],
          "name": "stdout"
        }
      ]
    },
    {
      "cell_type": "code",
      "metadata": {
        "colab": {
          "base_uri": "https://localhost:8080/"
        },
        "id": "6kdyk3RPkC6p",
        "outputId": "ca5a2b0f-da57-46c4-9fae-a492f7fd9c92"
      },
      "source": [
        "#these are individual class probabilities, should sum to 1.0\n",
        "for image in predictions:\n",
        "    print(np.sum(image))\n",
        "\n",
        "#shows that there is hundred percent probability that images to belong to one of the classes"
      ],
      "execution_count": null,
      "outputs": [
        {
          "output_type": "stream",
          "text": [
            "1.0\n",
            "0.99999994\n",
            "1.0\n",
            "1.0\n",
            "1.0\n",
            "1.0\n",
            "1.0\n",
            "1.0\n",
            "1.0\n"
          ],
          "name": "stdout"
        }
      ]
    },
    {
      "cell_type": "code",
      "metadata": {
        "id": "WWFIufmawd8r"
      },
      "source": [
        "test=cv2.imread('/content/drive/MyDrive/odometer/odometer/images/00001.jpeg')\n",
        "x=int(xmax[0])\n",
        "y=int(xmin[0])\n",
        "h=int(ymax[0])+x\n",
        "w=int(ymin[0])+y\n",
        "\n",
        "imgtest=test[y:w, x:h]\n"
      ],
      "execution_count": null,
      "outputs": []
    },
    {
      "cell_type": "code",
      "metadata": {
        "id": "pxJioC1zkVca",
        "colab": {
          "base_uri": "https://localhost:8080/"
        },
        "outputId": "adef5861-9592-4ff3-a83a-0c0b46480fa3"
      },
      "source": [
        "!pip install easyocr "
      ],
      "execution_count": null,
      "outputs": [
        {
          "output_type": "stream",
          "text": [
            "Collecting easyocr\n",
            "\u001b[?25l  Downloading https://files.pythonhosted.org/packages/9d/b4/6a402a7ec3890e94313a7d2804190713e2c942371b39c7ccd9070280bc36/easyocr-1.3.2-py3-none-any.whl (63.2MB)\n",
            "\u001b[K     |████████████████████████████████| 63.2MB 104kB/s \n",
            "\u001b[?25hRequirement already satisfied: opencv-python in /usr/local/lib/python3.7/dist-packages (from easyocr) (4.1.2.30)\n",
            "Collecting python-bidi\n",
            "  Downloading https://files.pythonhosted.org/packages/33/b0/f942d146a2f457233baaafd6bdf624eba8e0f665045b4abd69d1b62d097d/python_bidi-0.4.2-py2.py3-none-any.whl\n",
            "Requirement already satisfied: PyYAML in /usr/local/lib/python3.7/dist-packages (from easyocr) (3.13)\n",
            "Requirement already satisfied: scipy in /usr/local/lib/python3.7/dist-packages (from easyocr) (1.4.1)\n",
            "Requirement already satisfied: torchvision>=0.5 in /usr/local/lib/python3.7/dist-packages (from easyocr) (0.10.0+cu102)\n",
            "Requirement already satisfied: scikit-image in /usr/local/lib/python3.7/dist-packages (from easyocr) (0.16.2)\n",
            "Requirement already satisfied: torch in /usr/local/lib/python3.7/dist-packages (from easyocr) (1.9.0+cu102)\n",
            "Requirement already satisfied: Pillow in /usr/local/lib/python3.7/dist-packages (from easyocr) (7.1.2)\n",
            "Requirement already satisfied: numpy in /usr/local/lib/python3.7/dist-packages (from easyocr) (1.19.5)\n",
            "Requirement already satisfied: six in /usr/local/lib/python3.7/dist-packages (from python-bidi->easyocr) (1.15.0)\n",
            "Requirement already satisfied: networkx>=2.0 in /usr/local/lib/python3.7/dist-packages (from scikit-image->easyocr) (2.5.1)\n",
            "Requirement already satisfied: PyWavelets>=0.4.0 in /usr/local/lib/python3.7/dist-packages (from scikit-image->easyocr) (1.1.1)\n",
            "Requirement already satisfied: imageio>=2.3.0 in /usr/local/lib/python3.7/dist-packages (from scikit-image->easyocr) (2.4.1)\n",
            "Requirement already satisfied: matplotlib!=3.0.0,>=2.0.0 in /usr/local/lib/python3.7/dist-packages (from scikit-image->easyocr) (3.2.2)\n",
            "Requirement already satisfied: typing-extensions in /usr/local/lib/python3.7/dist-packages (from torch->easyocr) (3.7.4.3)\n",
            "Requirement already satisfied: decorator<5,>=4.3 in /usr/local/lib/python3.7/dist-packages (from networkx>=2.0->scikit-image->easyocr) (4.4.2)\n",
            "Requirement already satisfied: pyparsing!=2.0.4,!=2.1.2,!=2.1.6,>=2.0.1 in /usr/local/lib/python3.7/dist-packages (from matplotlib!=3.0.0,>=2.0.0->scikit-image->easyocr) (2.4.7)\n",
            "Requirement already satisfied: kiwisolver>=1.0.1 in /usr/local/lib/python3.7/dist-packages (from matplotlib!=3.0.0,>=2.0.0->scikit-image->easyocr) (1.3.1)\n",
            "Requirement already satisfied: python-dateutil>=2.1 in /usr/local/lib/python3.7/dist-packages (from matplotlib!=3.0.0,>=2.0.0->scikit-image->easyocr) (2.8.1)\n",
            "Requirement already satisfied: cycler>=0.10 in /usr/local/lib/python3.7/dist-packages (from matplotlib!=3.0.0,>=2.0.0->scikit-image->easyocr) (0.10.0)\n",
            "Installing collected packages: python-bidi, easyocr\n",
            "Successfully installed easyocr-1.3.2 python-bidi-0.4.2\n"
          ],
          "name": "stdout"
        }
      ]
    },
    {
      "cell_type": "code",
      "metadata": {
        "id": "cETy0si0veR2"
      },
      "source": [
        "import easyocr\n"
      ],
      "execution_count": null,
      "outputs": []
    },
    {
      "cell_type": "code",
      "metadata": {
        "colab": {
          "base_uri": "https://localhost:8080/",
          "height": 204
        },
        "id": "AuqTPGIsys88",
        "outputId": "b3f9eaac-bb79-47f4-91cb-9bb462cc8a42"
      },
      "source": [
        "plt.imshow(imgtest)\n",
        "reader = easyocr.Reader(['en'])\n",
        "bounds = reader.readtext(imgtest,detail=0,allowlist='0123456789')\n",
        "bounds"
      ],
      "execution_count": null,
      "outputs": [
        {
          "output_type": "stream",
          "text": [
            "CUDA not available - defaulting to CPU. Note: This module is much faster with a GPU.\n"
          ],
          "name": "stderr"
        },
        {
          "output_type": "execute_result",
          "data": {
            "text/plain": [
              "['000', '450534']"
            ]
          },
          "metadata": {
            "tags": []
          },
          "execution_count": 64
        },
        {
          "output_type": "display_data",
          "data": {
            "image/png": "[encoded data removed]",
            "text/plain": [
              "<Figure size 432x288 with 1 Axes>"
            ]
          },
          "metadata": {
            "tags": [],
            "needs_background": "light"
          }
        }
      ]
    },
    {
      "cell_type": "code",
      "metadata": {
        "id": "jnZEjRhYEGpv"
      },
      "source": [
        ""
      ],
      "execution_count": null,
      "outputs": []
    }
  ]
}